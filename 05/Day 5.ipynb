{
 "cells": [
  {
   "cell_type": "code",
   "execution_count": 38,
   "metadata": {
    "collapsed": true
   },
   "outputs": [],
   "source": [
    "test_string = 'dabAcCaCBAcCcaDA'\n",
    "\n",
    "# LETTERS = {'a': 'A',\n",
    "#            'A': 'a',\n",
    "#            'b': 'B',\n",
    "#            'B': 'b',\n",
    "#            'c': 'C',\n",
    "#            'C': 'c',\n",
    "#            'd': 'D',\n",
    "#            'D': 'd'}"
   ]
  },
  {
   "cell_type": "code",
   "execution_count": 39,
   "metadata": {},
   "outputs": [],
   "source": [
    "lower = 'abcdefghijklmnopqrstuvwxyz'\n",
    "upper = lower.upper()\n",
    "LETTERS = dict(zip(list(lower + upper), list(upper + lower)))\n",
    "# LETTERS"
   ]
  },
  {
   "cell_type": "code",
   "execution_count": 40,
   "metadata": {
    "collapsed": true
   },
   "outputs": [],
   "source": [
    "def make_compare(letter1, letter2):\n",
    "    if letter1 == LETTERS[letter2]:\n",
    "        return True\n",
    "    elif letter2 == LETTERS[letter1]:\n",
    "        return True\n",
    "    else:\n",
    "        return False"
   ]
  },
  {
   "cell_type": "code",
   "execution_count": 41,
   "metadata": {},
   "outputs": [
    {
     "data": {
      "text/plain": [
       "False"
      ]
     },
     "execution_count": 41,
     "metadata": {},
     "output_type": "execute_result"
    }
   ],
   "source": [
    "make_compare('d', 'C')"
   ]
  },
  {
   "cell_type": "code",
   "execution_count": 44,
   "metadata": {
    "collapsed": true
   },
   "outputs": [],
   "source": [
    "def pop_pairs(input_string):\n",
    "    for i in range(len(input_string)-1):\n",
    "        if make_compare(input_string[i], input_string[i+1]):\n",
    "            output_string = input_string[0:i] + input_string[i+2:]\n",
    "#             print(output_string)\n",
    "            return (True, output_string)\n",
    "    return (False, input_string)\n"
   ]
  },
  {
   "cell_type": "code",
   "execution_count": 46,
   "metadata": {},
   "outputs": [
    {
     "name": "stdout",
     "output_type": "stream",
     "text": [
      "50000\n",
      "11754\n"
     ]
    }
   ],
   "source": [
    "run = True\n",
    "\n",
    "with open('input.txt', 'r') as f:\n",
    "    input_data = f.readline().strip()\n",
    "    \n",
    "print(len(input_data))\n",
    "# print(input_data)\n",
    "\n",
    "while run:\n",
    "    run, out = pop_pairs(input_data)\n",
    "    input_data = out\n",
    "#     print(run)\n",
    "\n",
    "print(len(input_data))\n",
    "# _, out = pop_pairs(test_string)\n",
    "# out"
   ]
  },
  {
   "cell_type": "code",
   "execution_count": 59,
   "metadata": {},
   "outputs": [
    {
     "data": {
      "text/plain": [
       "'dbcCCBcCcD'"
      ]
     },
     "execution_count": 59,
     "metadata": {},
     "output_type": "execute_result"
    }
   ],
   "source": [
    "def extract_letter(input_string, letter):\n",
    "    input_list = list(input_string)\n",
    "    inter_list = [x for x in input_list if x != letter.lower()]\n",
    "    output_list = [x for x in inter_list if x != letter.upper()]\n",
    "    return ''.join(output_list)\n",
    "\n",
    "extract_letter(test_string, 'a')"
   ]
  },
  {
   "cell_type": "code",
   "execution_count": 61,
   "metadata": {},
   "outputs": [
    {
     "name": "stdout",
     "output_type": "stream",
     "text": [
      "a 11274\n",
      "b 11218\n",
      "c 11326\n",
      "d 11268\n",
      "e 11310\n",
      "f 11262\n",
      "g 11280\n",
      "h 11220\n",
      "i 11226\n",
      "j 11328\n",
      "k 11274\n",
      "l 11302\n",
      "m 11308\n",
      "n 11338\n",
      "o 11242\n",
      "p 11290\n",
      "q 11260\n",
      "r 11268\n",
      "s 11294\n",
      "t 4098\n",
      "u 11316\n",
      "v 11282\n",
      "w 11278\n"
     ]
    },
    {
     "ename": "KeyboardInterrupt",
     "evalue": "",
     "output_type": "error",
     "traceback": [
      "\u001b[1;31m---------------------------------------------------------------------------\u001b[0m",
      "\u001b[1;31mKeyboardInterrupt\u001b[0m                         Traceback (most recent call last)",
      "\u001b[1;32m<ipython-input-61-111dfbf37b18>\u001b[0m in \u001b[0;36m<module>\u001b[1;34m()\u001b[0m\n\u001b[0;32m      7\u001b[0m     \u001b[0mnew_input_data\u001b[0m \u001b[1;33m=\u001b[0m \u001b[0mextract_letter\u001b[0m\u001b[1;33m(\u001b[0m\u001b[0minput_data\u001b[0m\u001b[1;33m,\u001b[0m \u001b[0mletter\u001b[0m\u001b[1;33m)\u001b[0m\u001b[1;33m\u001b[0m\u001b[0m\n\u001b[0;32m      8\u001b[0m     \u001b[1;32mwhile\u001b[0m \u001b[0mrun\u001b[0m\u001b[1;33m:\u001b[0m\u001b[1;33m\u001b[0m\u001b[0m\n\u001b[1;32m----> 9\u001b[1;33m         \u001b[0mrun\u001b[0m\u001b[1;33m,\u001b[0m \u001b[0mout\u001b[0m \u001b[1;33m=\u001b[0m \u001b[0mpop_pairs\u001b[0m\u001b[1;33m(\u001b[0m\u001b[0mnew_input_data\u001b[0m\u001b[1;33m)\u001b[0m\u001b[1;33m\u001b[0m\u001b[0m\n\u001b[0m\u001b[0;32m     10\u001b[0m         \u001b[0mnew_input_data\u001b[0m \u001b[1;33m=\u001b[0m \u001b[0mout\u001b[0m\u001b[1;33m\u001b[0m\u001b[0m\n\u001b[0;32m     11\u001b[0m     \u001b[0mprint\u001b[0m\u001b[1;33m(\u001b[0m\u001b[0mletter\u001b[0m\u001b[1;33m,\u001b[0m \u001b[0mlen\u001b[0m\u001b[1;33m(\u001b[0m\u001b[0mnew_input_data\u001b[0m\u001b[1;33m)\u001b[0m\u001b[1;33m)\u001b[0m\u001b[1;33m\u001b[0m\u001b[0m\n",
      "\u001b[1;32m<ipython-input-44-9422ed99aba4>\u001b[0m in \u001b[0;36mpop_pairs\u001b[1;34m(input_string)\u001b[0m\n\u001b[0;32m      1\u001b[0m \u001b[1;32mdef\u001b[0m \u001b[0mpop_pairs\u001b[0m\u001b[1;33m(\u001b[0m\u001b[0minput_string\u001b[0m\u001b[1;33m)\u001b[0m\u001b[1;33m:\u001b[0m\u001b[1;33m\u001b[0m\u001b[0m\n\u001b[0;32m      2\u001b[0m     \u001b[1;32mfor\u001b[0m \u001b[0mi\u001b[0m \u001b[1;32min\u001b[0m \u001b[0mrange\u001b[0m\u001b[1;33m(\u001b[0m\u001b[0mlen\u001b[0m\u001b[1;33m(\u001b[0m\u001b[0minput_string\u001b[0m\u001b[1;33m)\u001b[0m\u001b[1;33m-\u001b[0m\u001b[1;36m1\u001b[0m\u001b[1;33m)\u001b[0m\u001b[1;33m:\u001b[0m\u001b[1;33m\u001b[0m\u001b[0m\n\u001b[1;32m----> 3\u001b[1;33m         \u001b[1;32mif\u001b[0m \u001b[0mmake_compare\u001b[0m\u001b[1;33m(\u001b[0m\u001b[0minput_string\u001b[0m\u001b[1;33m[\u001b[0m\u001b[0mi\u001b[0m\u001b[1;33m]\u001b[0m\u001b[1;33m,\u001b[0m \u001b[0minput_string\u001b[0m\u001b[1;33m[\u001b[0m\u001b[0mi\u001b[0m\u001b[1;33m+\u001b[0m\u001b[1;36m1\u001b[0m\u001b[1;33m]\u001b[0m\u001b[1;33m)\u001b[0m\u001b[1;33m:\u001b[0m\u001b[1;33m\u001b[0m\u001b[0m\n\u001b[0m\u001b[0;32m      4\u001b[0m             \u001b[0moutput_string\u001b[0m \u001b[1;33m=\u001b[0m \u001b[0minput_string\u001b[0m\u001b[1;33m[\u001b[0m\u001b[1;36m0\u001b[0m\u001b[1;33m:\u001b[0m\u001b[0mi\u001b[0m\u001b[1;33m]\u001b[0m \u001b[1;33m+\u001b[0m \u001b[0minput_string\u001b[0m\u001b[1;33m[\u001b[0m\u001b[0mi\u001b[0m\u001b[1;33m+\u001b[0m\u001b[1;36m2\u001b[0m\u001b[1;33m:\u001b[0m\u001b[1;33m]\u001b[0m\u001b[1;33m\u001b[0m\u001b[0m\n\u001b[0;32m      5\u001b[0m \u001b[1;31m#             print(output_string)\u001b[0m\u001b[1;33m\u001b[0m\u001b[1;33m\u001b[0m\u001b[0m\n",
      "\u001b[1;31mKeyboardInterrupt\u001b[0m: "
     ]
    }
   ],
   "source": [
    "\n",
    "with open('input.txt', 'r') as f:\n",
    "    input_data = f.readline().strip()\n",
    "    \n",
    "for letter in lower:\n",
    "    run = True\n",
    "    new_input_data = extract_letter(input_data, letter)\n",
    "    while run:\n",
    "        run, out = pop_pairs(new_input_data)\n",
    "        new_input_data = out\n",
    "    print(letter, len(new_input_data))\n",
    "\n",
    "# Answer: t 4098"
   ]
  },
  {
   "cell_type": "code",
   "execution_count": null,
   "metadata": {
    "collapsed": true
   },
   "outputs": [],
   "source": []
  }
 ],
 "metadata": {
  "kernelspec": {
   "display_name": "Python [conda root]",
   "language": "python",
   "name": "conda-root-py"
  },
  "language_info": {
   "codemirror_mode": {
    "name": "ipython",
    "version": 3
   },
   "file_extension": ".py",
   "mimetype": "text/x-python",
   "name": "python",
   "nbconvert_exporter": "python",
   "pygments_lexer": "ipython3",
   "version": "3.5.3"
  }
 },
 "nbformat": 4,
 "nbformat_minor": 2
}
