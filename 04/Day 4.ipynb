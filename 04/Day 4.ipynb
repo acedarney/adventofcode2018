{
 "cells": [
  {
   "cell_type": "code",
   "execution_count": 12,
   "metadata": {
    "collapsed": true
   },
   "outputs": [],
   "source": [
    "import pandas as pd\n",
    "from datetime import datetime"
   ]
  },
  {
   "cell_type": "code",
   "execution_count": 17,
   "metadata": {},
   "outputs": [
    {
     "data": {
      "text/plain": [
       "'Guard #2411 begins shift'"
      ]
     },
     "execution_count": 17,
     "metadata": {},
     "output_type": "execute_result"
    }
   ],
   "source": [
    "string = '[1518-11-13 00:04] Guard #2411 begins shift'\n",
    "\n",
    "dt = string[1:17]\n",
    "dt2 = datetime.strptime(dt, '%Y-%m-%d %H:%M')\n",
    "# dt2\n",
    "text = string[19:]\n",
    "# text"
   ]
  },
  {
   "cell_type": "code",
   "execution_count": 8,
   "metadata": {},
   "outputs": [
    {
     "name": "stdout",
     "output_type": "stream",
     "text": [
      "<class 'pandas.core.frame.DataFrame'>\n",
      "Index: 1 entries, 1518-11-13 00:04 to 1518-11-13 00:04\n",
      "Data columns (total 1 columns):\n",
      "Text    0 non-null object\n",
      "dtypes: object(1)\n",
      "memory usage: 16.0+ bytes\n"
     ]
    }
   ],
   "source": [
    "test_df = pd.DataFrame(index=[datetime], columns=['Text'])\n",
    "test_df.info()"
   ]
  },
  {
   "cell_type": "code",
   "execution_count": 16,
   "metadata": {},
   "outputs": [
    {
     "data": {
      "text/plain": [
       "datetime.datetime(1518, 11, 13, 0, 4)"
      ]
     },
     "execution_count": 16,
     "metadata": {},
     "output_type": "execute_result"
    }
   ],
   "source": [
    "dt2"
   ]
  },
  {
   "cell_type": "code",
   "execution_count": 47,
   "metadata": {},
   "outputs": [
    {
     "data": {
      "text/html": [
       "<div>\n",
       "<style scoped>\n",
       "    .dataframe tbody tr th:only-of-type {\n",
       "        vertical-align: middle;\n",
       "    }\n",
       "\n",
       "    .dataframe tbody tr th {\n",
       "        vertical-align: top;\n",
       "    }\n",
       "\n",
       "    .dataframe thead th {\n",
       "        text-align: right;\n",
       "    }\n",
       "</style>\n",
       "<table border=\"1\" class=\"dataframe\">\n",
       "  <thead>\n",
       "    <tr style=\"text-align: right;\">\n",
       "      <th></th>\n",
       "      <th>Time</th>\n",
       "      <th>Text</th>\n",
       "    </tr>\n",
       "  </thead>\n",
       "  <tbody>\n",
       "    <tr>\n",
       "      <th>0</th>\n",
       "      <td>1518-02-01 00:02</td>\n",
       "      <td>Guard #137 begins shift</td>\n",
       "    </tr>\n",
       "    <tr>\n",
       "      <th>1</th>\n",
       "      <td>1518-02-01 00:39</td>\n",
       "      <td>falls asleep</td>\n",
       "    </tr>\n",
       "    <tr>\n",
       "      <th>2</th>\n",
       "      <td>1518-02-01 00:55</td>\n",
       "      <td>wakes up</td>\n",
       "    </tr>\n",
       "    <tr>\n",
       "      <th>3</th>\n",
       "      <td>1518-02-01 23:56</td>\n",
       "      <td>Guard #2441 begins shift</td>\n",
       "    </tr>\n",
       "    <tr>\n",
       "      <th>4</th>\n",
       "      <td>1518-02-02 23:49</td>\n",
       "      <td>Guard #3251 begins shift</td>\n",
       "    </tr>\n",
       "  </tbody>\n",
       "</table>\n",
       "</div>"
      ],
      "text/plain": [
       "               Time                      Text\n",
       "0  1518-02-01 00:02   Guard #137 begins shift\n",
       "1  1518-02-01 00:39              falls asleep\n",
       "2  1518-02-01 00:55                  wakes up\n",
       "3  1518-02-01 23:56  Guard #2441 begins shift\n",
       "4  1518-02-02 23:49  Guard #3251 begins shift"
      ]
     },
     "execution_count": 47,
     "metadata": {},
     "output_type": "execute_result"
    }
   ],
   "source": [
    "df = pd.DataFrame(columns=['Time', 'Text'])\n",
    "\n",
    "with open('input.txt', 'r') as f:\n",
    "    for line in sorted(f):\n",
    "#         time = datetime.strptime(line[1:17], '%Y-%m-%d %H:%M')\n",
    "# need to fix the timestamp somehow\n",
    "        time = line[1:17]\n",
    "        text = line[19:-1]\n",
    "        df = df.append({'Time': time, 'Text': text}, ignore_index=True)\n",
    "        \n",
    "df.head()"
   ]
  },
  {
   "cell_type": "code",
   "execution_count": 25,
   "metadata": {},
   "outputs": [
    {
     "data": {
      "text/plain": [
       "{83: 250,\n",
       " 137: 482,\n",
       " 479: 359,\n",
       " 503: 211,\n",
       " 617: 299,\n",
       " 631: 202,\n",
       " 811: 438,\n",
       " 947: 352,\n",
       " 967: 301,\n",
       " 1151: 279,\n",
       " 1213: 186,\n",
       " 1297: 290,\n",
       " 1871: 397,\n",
       " 1999: 357,\n",
       " 2351: 520,\n",
       " 2411: 356,\n",
       " 2741: 227,\n",
       " 3221: 348,\n",
       " 3251: 425,\n",
       " 3347: 406}"
      ]
     },
     "execution_count": 25,
     "metadata": {},
     "output_type": "execute_result"
    }
   ],
   "source": [
    "guards = {}\n",
    "guards_list = {}\n",
    "\n",
    "with open ('input.txt', 'r') as f:\n",
    "    for line in sorted(f):\n",
    "        if '#' in line:\n",
    "            guard_number = int(line[26:].split()[0])\n",
    "#             print('Guard #:', guard_number)\n",
    "        elif 'falls' in line:\n",
    "            sleep_time = int(line[15:17])\n",
    "#             print('Fall Asleep: ', sleep_time)\n",
    "        elif 'wakes' in line:\n",
    "            wake_time = int(line[15:17])\n",
    "#             print('Wake Up: ', wake_time)\n",
    "            sleep_duration = wake_time - sleep_time\n",
    "            if guard_number in guards:\n",
    "                guards[guard_number] += sleep_duration\n",
    "                for i in range(sleep_time, wake_time):\n",
    "                    guards_list[guard_number].append(i)\n",
    "#                     guards_list[guard_number].append(sleep_time)\n",
    "#                     guards_list[guard_number].append(wake_time)\n",
    "            else:\n",
    "                guards[guard_number] = sleep_duration\n",
    "                guards_list[guard_number] = [i in range(sleep_time, wake_time)]\n",
    "                \n",
    "                \n",
    "guards"
   ]
  },
  {
   "cell_type": "code",
   "execution_count": 26,
   "metadata": {},
   "outputs": [
    {
     "data": {
      "text/plain": [
       "36"
      ]
     },
     "execution_count": 26,
     "metadata": {},
     "output_type": "execute_result"
    }
   ],
   "source": [
    "from statistics import mode\n",
    "\n",
    "mode(guards_list[2351])"
   ]
  },
  {
   "cell_type": "code",
   "execution_count": 27,
   "metadata": {},
   "outputs": [
    {
     "data": {
      "text/plain": [
       "84636"
      ]
     },
     "execution_count": 27,
     "metadata": {},
     "output_type": "execute_result"
    }
   ],
   "source": [
    "2351 * 36"
   ]
  },
  {
   "cell_type": "code",
   "execution_count": 32,
   "metadata": {},
   "outputs": [
    {
     "data": {
      "text/plain": [
       "{83: [41, 6],\n",
       " 479: [29, 11],\n",
       " 811: [50, 13],\n",
       " 967: [52, 8],\n",
       " 1151: [44, 7],\n",
       " 1871: [49, 18],\n",
       " 2351: [36, 16],\n",
       " 3221: [39, 11]}"
      ]
     },
     "execution_count": 32,
     "metadata": {},
     "output_type": "execute_result"
    }
   ],
   "source": [
    "guard_mode = {}\n",
    "\n",
    "for guard, lst in guards_list.items():\n",
    "    try: \n",
    "        guard_mode[guard] = [mode(lst), lst.count(mode(lst))]\n",
    "    except:\n",
    "        pass\n",
    "    \n",
    "guard_mode"
   ]
  },
  {
   "cell_type": "code",
   "execution_count": 33,
   "metadata": {},
   "outputs": [
    {
     "data": {
      "text/plain": [
       "91679"
      ]
     },
     "execution_count": 33,
     "metadata": {},
     "output_type": "execute_result"
    }
   ],
   "source": [
    "49*1871"
   ]
  },
  {
   "cell_type": "code",
   "execution_count": null,
   "metadata": {
    "collapsed": true
   },
   "outputs": [],
   "source": []
  }
 ],
 "metadata": {
  "kernelspec": {
   "display_name": "Python [conda root]",
   "language": "python",
   "name": "conda-root-py"
  },
  "language_info": {
   "codemirror_mode": {
    "name": "ipython",
    "version": 3
   },
   "file_extension": ".py",
   "mimetype": "text/x-python",
   "name": "python",
   "nbconvert_exporter": "python",
   "pygments_lexer": "ipython3",
   "version": "3.5.3"
  }
 },
 "nbformat": 4,
 "nbformat_minor": 2
}
